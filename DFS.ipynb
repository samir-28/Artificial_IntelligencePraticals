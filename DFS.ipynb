{
 "cells": [
  {
   "cell_type": "code",
   "execution_count": 1,
   "metadata": {},
   "outputs": [
    {
     "name": "stdout",
     "output_type": "stream",
     "text": [
      "DFS starting from start node: A\n",
      "A B C D E "
     ]
    }
   ],
   "source": [
    "def dfs(graph, start, visited=None):\n",
    "    if visited is None:\n",
    "        visited = set()\n",
    "        \n",
    "    visited.add(start)\n",
    "    print(start, end=' ')\n",
    "\n",
    "    for adjacent in graph[start]:\n",
    "        if adjacent not in visited:\n",
    "            dfs(graph, adjacent, visited)\n",
    "\n",
    "graph = {\n",
    "    'A': ['B', 'C'],\n",
    "    'B': ['A', 'C', 'D'],\n",
    "    'C': ['A', 'B'],\n",
    "    'D': ['B', 'E'],\n",
    "    'E': ['D']\n",
    "}\n",
    "\n",
    "start_node = 'A'\n",
    "print(\"DFS starting from start node:\", start_node)\n",
    "dfs(graph, start_node)\n"
   ]
  }
 ],
 "metadata": {
  "kernelspec": {
   "display_name": "base",
   "language": "python",
   "name": "python3"
  },
  "language_info": {
   "codemirror_mode": {
    "name": "ipython",
    "version": 3
   },
   "file_extension": ".py",
   "mimetype": "text/x-python",
   "name": "python",
   "nbconvert_exporter": "python",
   "pygments_lexer": "ipython3",
   "version": "3.12.4"
  }
 },
 "nbformat": 4,
 "nbformat_minor": 2
}
